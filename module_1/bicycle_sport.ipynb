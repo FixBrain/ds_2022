{
 "cells": [
  {
   "cell_type": "markdown",
   "metadata": {},
   "source": [
    "### Итоговое задание модуля Python-11\n",
    "\n",
    "Датасет представляет собой таблицу с информацией о 300 тысячах поездок за первые пять дней сентября 2018 года и включает в себя следующую информацию:\n",
    "\n",
    "- starttime — время начала поездки (дата, время);\n",
    "- stoptime — время окончания поездки (дата, время);\n",
    "- start station id — идентификатор стартовой стоянки;\n",
    "- start station name — название стартовой стоянки;\n",
    "- start station latitude, start station longitude — географическая широта и долгота стартовой стоянки;\n",
    "- end station id — идентификатор конечной стоянки;\n",
    "- end station name — название конечной стоянки;\n",
    "- end station latitude, end station longitude — географическая широта и долгота конечной стоянки;\n",
    "- bikeid — идентификатор велосипеда;\n",
    "- usertype — тип пользователя (Customer — клиент с подпиской на 24 часа или на три дня, Subscriber — подписчик с годовой арендой велосипеда);\n",
    "- birth year — год рождения клиента;\n",
    "- gender — пол клиента (0 — неизвестный, 1 — мужчина, 2 — женщина)."
   ]
  },
  {
   "cell_type": "code",
   "execution_count": 1,
   "metadata": {},
   "outputs": [],
   "source": [
    "import pandas as pd\n",
    "sport_data = pd.read_csv('./data/citibike-tripdata.csv')"
   ]
  },
  {
   "cell_type": "code",
   "execution_count": 3,
   "metadata": {},
   "outputs": [],
   "source": [
    "# копируем в новый df, чтобы не подгружать файл, если чего не так пойдет\n",
    "sport_df = sport_data.copy()"
   ]
  },
  {
   "cell_type": "code",
   "execution_count": 4,
   "metadata": {},
   "outputs": [
    {
     "data": {
      "text/plain": [
       "169"
      ]
     },
     "execution_count": 4,
     "metadata": {},
     "output_type": "execute_result"
    }
   ],
   "source": [
    "# 6.1\n",
    "# Сколько пропусков в столбце start station id?\n",
    "sport_df['start station id'].isna().sum()"
   ]
  },
  {
   "cell_type": "code",
   "execution_count": 5,
   "metadata": {},
   "outputs": [
    {
     "name": "stdout",
     "output_type": "stream",
     "text": [
      "<class 'pandas.core.frame.DataFrame'>\n",
      "RangeIndex: 300000 entries, 0 to 299999\n",
      "Data columns (total 14 columns):\n",
      " #   Column                   Non-Null Count   Dtype  \n",
      "---  ------                   --------------   -----  \n",
      " 0   starttime                300000 non-null  object \n",
      " 1   stoptime                 300000 non-null  object \n",
      " 2   start station id         299831 non-null  float64\n",
      " 3   start station name       299831 non-null  object \n",
      " 4   start station latitude   300000 non-null  float64\n",
      " 5   start station longitude  300000 non-null  float64\n",
      " 6   end station id           299831 non-null  float64\n",
      " 7   end station name         299831 non-null  object \n",
      " 8   end station latitude     300000 non-null  float64\n",
      " 9   end station longitude    300000 non-null  float64\n",
      " 10  bikeid                   300000 non-null  int64  \n",
      " 11  usertype                 300000 non-null  object \n",
      " 12  birth year               300000 non-null  int64  \n",
      " 13  gender                   300000 non-null  int64  \n",
      "dtypes: float64(6), int64(3), object(5)\n",
      "memory usage: 32.0+ MB\n"
     ]
    }
   ],
   "source": [
    "# 6.2\n",
    "# Какой тип данных имеют столбцы starttime и stoptime?\n",
    "sport_df.info()"
   ]
  },
  {
   "cell_type": "code",
   "execution_count": 6,
   "metadata": {},
   "outputs": [
    {
     "data": {
      "text/plain": [
       "281.0"
      ]
     },
     "execution_count": 6,
     "metadata": {},
     "output_type": "execute_result"
    }
   ],
   "source": [
    "# 6.3\n",
    "# Найдите идентификатор самой популярной стартовой стоянки. Запишите идентификатор в виде целого числа.\n",
    "sport_df['start station id'].value_counts().index[0]\n",
    "sport_df['start station id'].mode()[0]"
   ]
  },
  {
   "cell_type": "code",
   "execution_count": 7,
   "metadata": {},
   "outputs": [
    {
     "data": {
      "text/plain": [
       "33887"
      ]
     },
     "execution_count": 7,
     "metadata": {},
     "output_type": "execute_result"
    }
   ],
   "source": [
    "# 6.4\n",
    "# Велосипед с каким идентификатором является самым популярным?\n",
    "sport_df['bikeid'].value_counts().index[0]"
   ]
  },
  {
   "cell_type": "code",
   "execution_count": 10,
   "metadata": {},
   "outputs": [
    {
     "name": "stdout",
     "output_type": "stream",
     "text": [
      "Subscriber\n"
     ]
    },
    {
     "data": {
      "text/plain": [
       "0.7740066666666666"
      ]
     },
     "execution_count": 10,
     "metadata": {},
     "output_type": "execute_result"
    }
   ],
   "source": [
    "# 6.5\n",
    "# Какой тип клиентов (столбец usertype) является преобладающим — Subscriber или Customer? \n",
    "# В качестве ответа запишите долю клиентов преобладающего типа среди общего количества клиентов. \n",
    "# Ответ округлите до сотых.\n",
    "print(sport_df.usertype.value_counts().index[0])\n",
    "sport_df.usertype.value_counts()[0] / sport_df.shape[0]"
   ]
  },
  {
   "cell_type": "code",
   "execution_count": 15,
   "metadata": {},
   "outputs": [
    {
     "name": "stdout",
     "output_type": "stream",
     "text": [
      "men\n"
     ]
    },
    {
     "data": {
      "text/plain": [
       "183582"
      ]
     },
     "execution_count": 15,
     "metadata": {},
     "output_type": "execute_result"
    }
   ],
   "source": [
    "# 6.6\n",
    "# Кто больше занимается велоспортом — мужчины или женщины? В ответ запишите число поездок для той группы, у которой их больше.\n",
    "print(['unknown', 'men', 'women'][sport_df.gender.value_counts().index[0]])\n",
    "sport_df.gender.value_counts().iloc[0]"
   ]
  },
  {
   "cell_type": "code",
   "execution_count": 25,
   "metadata": {},
   "outputs": [
    {
     "data": {
      "text/plain": [
       "False"
      ]
     },
     "execution_count": 25,
     "metadata": {},
     "output_type": "execute_result"
    }
   ],
   "source": [
    "# 6.7\n",
    "# Выберите утверждения,которые соответствуют нашим данным:\n",
    "# A. Число уникальных стартовых и конечных стоянок, которыми воспользовались клиенты, не равны друг другу\n",
    "# B. В рассматриваемые дни минимальный возраст клиента составлял 10 лет\n",
    "# C. Самой непопулярной стартовой стоянкой из тех, которыми воспользовались клиенты, является стоянка с названием \"Eastern Pkwy & Washington Ave\"\n",
    "# D. Наибольшее количество поездок завершается на стоянке под названием \"Liberty Light Rail\"\n",
    "\n",
    "sport_df['start station id'].nunique() != sport_df['end station id'].nunique()             # A. True\n",
    "(pd.to_datetime(sport_df['starttime']).dt.year - sport_df['birth year']).min() == 10       # B. False\n",
    "sport_df['start station name'].value_counts().index[-1] == 'Eastern Pkwy & Washington Ave' # C. True\n",
    "sport_df['end station name'].value_counts().index[0] == 'Liberty Light Rail'               # D. False"
   ]
  },
  {
   "cell_type": "code",
   "execution_count": 28,
   "metadata": {},
   "outputs": [
    {
     "data": {
      "text/plain": [
       "12"
      ]
     },
     "execution_count": 28,
     "metadata": {},
     "output_type": "execute_result"
    }
   ],
   "source": [
    "# 6.8\n",
    "# В первую очередь удалим лишнюю информацию из данных.\n",
    "# В наших данных присутствуют столбцы, которые дублируют информацию друг о друге: \n",
    "# это столбцы с идентификатором и названием стартовой и конечной стоянки. \n",
    "# Удалите признаки идентификаторов стоянок. Сколько столбцов осталось?\n",
    "sport_df.drop(['start station id', 'end station id'], inplace=True, axis=1)\n",
    "len(sport_df.columns)"
   ]
  },
  {
   "cell_type": "code",
   "execution_count": 31,
   "metadata": {},
   "outputs": [
    {
     "data": {
      "text/plain": [
       "11837"
      ]
     },
     "execution_count": 31,
     "metadata": {},
     "output_type": "execute_result"
    }
   ],
   "source": [
    "# 6.9\n",
    "# Замените признак birth year на более понятный признак возраста клиента age. \n",
    "# Годом отсчёта возраста выберите 2018 год. Столбец birth year удалите из таблицы. \n",
    "# Сколько поездок совершено клиентами старше 60 лет?\n",
    "sport_df['age'] = 2018 - sport_df['birth year']\n",
    "sport_df.drop(['birth year'], inplace=True, axis=1)\n",
    "sport_df[sport_df.age > 60].shape[0]"
   ]
  },
  {
   "cell_type": "code",
   "execution_count": 50,
   "metadata": {},
   "outputs": [
    {
     "name": "stdout",
     "output_type": "stream",
     "text": [
      "1126.5588499066666\n",
      "1126\n"
     ]
    }
   ],
   "source": [
    "# 6.10\n",
    "# Создайте признак длительности поездки trip duration. \n",
    "# Для этого вычислите интервал времени между временем окончания поездки (stoptime) и временем её начала (starttime) в секундах. \n",
    "# Рассчитайте среднее значение по новому столбцу — среднюю длительность поездки, а затем переведите её в секунды. \n",
    "# Ответ округлите до целого.\n",
    "# Для того чтобы преобразовать временной интервал timedelta в секунды, \n",
    "# используется атрибут seconds (в datetime атрибут был second — в единственном числе).\n",
    "sport_df['trip duration'] = (pd.to_datetime(sport_df['stoptime']) - pd.to_datetime(sport_df['starttime'])).dt.total_seconds()\n",
    "print(sport_df['trip duration'].mean())\n",
    "\n",
    "sport_df['trip duration'] = pd.to_datetime(sport_df['stoptime']) - pd.to_datetime(sport_df['starttime'])\n",
    "print(sport_df['trip duration'].mean().seconds)"
   ]
  },
  {
   "cell_type": "code",
   "execution_count": 60,
   "metadata": {},
   "outputs": [
    {
     "data": {
      "text/plain": [
       "115135"
      ]
     },
     "execution_count": 60,
     "metadata": {},
     "output_type": "execute_result"
    }
   ],
   "source": [
    "# 6.11\n",
    "# Создайте «признак-мигалку» weekend, который равен 1, если поездка начиналась в выходной день (суббота или воскресенье), \n",
    "# и 0 — в противном случае. Выясните, сколько поездок начиналось в выходные.\n",
    "def is_weekend(dt):\n",
    "    return dt.dayofweek > 4\n",
    "sport_df['weekend'] = pd.to_datetime(sport_df.starttime).apply(is_weekend)\n",
    "sport_df.weekend.sum()"
   ]
  },
  {
   "cell_type": "code",
   "execution_count": 69,
   "metadata": {},
   "outputs": [
    {
     "data": {
      "text/plain": [
       "9"
      ]
     },
     "execution_count": 69,
     "metadata": {},
     "output_type": "execute_result"
    }
   ],
   "source": [
    "# 6.12\n",
    "# Создайте признак времени суток поездки time_of_day. Время суток будем определять из часа начала поездки. Условимся, что:\n",
    "# - поездка совершается ночью (night), если её час приходится на интервал от 0 (включительно) до 6 (включительно) часов;\n",
    "# - поездка совершается утром (morning), если её час приходится на интервал от 6 (не включительно) до 12 (включительно) часов;\n",
    "# - поездка совершается днём (day), если её час приходится на интервал от 12 (не включительно) до 18 (включительно) часов;\n",
    "# - поездка совершается вечером (evening), если её час приходится на интервал от 18 (не включительно) до 23 часов (включительно).\n",
    "# Во сколько раз количество поездок, совершённых днём, больше, чем количество поездок, совёршенных ночью, \n",
    "# за представленный в данных период времени? Ответ округлите до целых.\n",
    "def how_time_of_day(datetime):\n",
    "    match datetime.time().hour:\n",
    "        case x if x < 7:\n",
    "            return 'night'\n",
    "        case x if x < 13:\n",
    "            return 'morning'\n",
    "        case x if x < 19:\n",
    "            return 'day'\n",
    "        case _:\n",
    "            return 'evening'\n",
    "sport_df['time_of_day'] = pd.to_datetime(sport_df.starttime).apply(how_time_of_day)\n",
    "int(round(sport_df.time_of_day.value_counts()['day'] / sport_df.time_of_day.value_counts()['night']))"
   ]
  }
 ],
 "metadata": {
  "kernelspec": {
   "display_name": "Python 3.10.0 64-bit",
   "language": "python",
   "name": "python3"
  },
  "language_info": {
   "codemirror_mode": {
    "name": "ipython",
    "version": 3
   },
   "file_extension": ".py",
   "mimetype": "text/x-python",
   "name": "python",
   "nbconvert_exporter": "python",
   "pygments_lexer": "ipython3",
   "version": "3.10.0"
  },
  "orig_nbformat": 4,
  "vscode": {
   "interpreter": {
    "hash": "a42ccb73e7d9bfdf27e036f1d2b8b681e55fc0743cc5586bc2474d4a60f4b886"
   }
  }
 },
 "nbformat": 4,
 "nbformat_minor": 2
}
