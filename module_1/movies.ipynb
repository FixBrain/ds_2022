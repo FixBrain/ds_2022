{
 "cells": [
  {
   "cell_type": "code",
   "execution_count": 1,
   "metadata": {},
   "outputs": [
    {
     "data": {
      "text/plain": [
       "9742"
      ]
     },
     "execution_count": 1,
     "metadata": {},
     "output_type": "execute_result"
    }
   ],
   "source": [
    "import pandas as pd\n",
    "# 5.2\n",
    "# Сколько уникальных фильмов представлено в таблице movies?\n",
    "\n",
    "mv_data = pd.read_csv('.\\data\\movies\\movies.csv')\n",
    "mv_data.shape[0]\n",
    "\n"
   ]
  },
  {
   "cell_type": "code",
   "execution_count": 4,
   "metadata": {},
   "outputs": [
    {
     "data": {
      "text/plain": [
       "274"
      ]
     },
     "execution_count": 4,
     "metadata": {},
     "output_type": "execute_result"
    }
   ],
   "source": [
    "# 5.3\n",
    "# Сколько уникальных пользователей в таблице ratings1?\n",
    "rt1_data = pd.read_csv('./data/movies/ratings1.csv')\n",
    "rt1_data.userId.nunique()"
   ]
  },
  {
   "cell_type": "code",
   "execution_count": 10,
   "metadata": {},
   "outputs": [
    {
     "data": {
      "text/plain": [
       "date    2000\n",
       "dtype: int64"
      ]
     },
     "execution_count": 10,
     "metadata": {},
     "output_type": "execute_result"
    }
   ],
   "source": [
    "# 5.4\n",
    "# В каком году было выставлено больше всего оценок?\n",
    "# Для ответа на этот вопрос используйте таблицу dates.\n",
    "date_data = pd.read_csv('./data/movies/dates.csv')\n",
    "date_data.date = pd.to_datetime(date_data.date)\n",
    "date_data.groupby(date_data.date.dt.year).count().idxmax()"
   ]
  },
  {
   "cell_type": "code",
   "execution_count": 24,
   "metadata": {},
   "outputs": [],
   "source": [
    "# объединяем таблицы рейтингов\n",
    "rt2_data = pd.read_csv('./data/movies/ratings2.csv')\n",
    "ratings = pd.concat([rt1_data, rt2_data], ignore_index=True)\n",
    "\n",
    "# удаляем дубликаты и перезаписываем индексы\n",
    "ratings.drop_duplicates(ignore_index=True, inplace=True)"
   ]
  },
  {
   "cell_type": "code",
   "execution_count": 26,
   "metadata": {},
   "outputs": [],
   "source": [
    "rating_dates = pd.concat([ratings, date_data], axis=1)"
   ]
  },
  {
   "cell_type": "code",
   "execution_count": 29,
   "metadata": {},
   "outputs": [],
   "source": [
    "full_data = rating_dates.merge(mv_data, on='movieId', how='left')\n",
    "#mv_data.columns"
   ]
  },
  {
   "cell_type": "code",
   "execution_count": 32,
   "metadata": {},
   "outputs": [
    {
     "data": {
      "text/plain": [
       "0        2000-07-30 18:45:03\n",
       "1        2000-07-30 18:20:47\n",
       "2        2000-07-30 18:37:04\n",
       "3        2000-07-30 19:03:35\n",
       "4        2000-07-30 18:48:51\n",
       "                 ...        \n",
       "100831   2017-05-03 21:53:22\n",
       "100832   2017-05-03 22:21:31\n",
       "100833   2017-05-08 19:50:47\n",
       "100834   2017-05-03 21:19:12\n",
       "100835   2017-05-03 21:20:15\n",
       "Name: date, Length: 100836, dtype: datetime64[ns]"
      ]
     },
     "execution_count": 32,
     "metadata": {},
     "output_type": "execute_result"
    }
   ],
   "source": [
    "full_data.date"
   ]
  },
  {
   "cell_type": "code",
   "execution_count": 115,
   "metadata": {},
   "outputs": [
    {
     "data": {
      "text/plain": [
       "18"
      ]
     },
     "execution_count": 115,
     "metadata": {},
     "output_type": "execute_result"
    }
   ],
   "source": [
    "# 8.1\n",
    "# Создайте в таблице новый признак year_release, который соответствует году \n",
    "# выпуска фильма.\n",
    "import re\n",
    "# У скольких фильмов не указан год их выпуска?\n",
    "def get_year_release(arg):\n",
    "    #находим все слова по шаблону \"(DDDD)\"\n",
    "    candidates = re.findall(r'\\(\\d{4}\\)', arg) \n",
    "    # проверяем число вхождений\n",
    "    if len(candidates) > 0:\n",
    "        #если число вхождений больше 0,\n",
    "\t#очищаем строку от знаков \"(\" и \")\"\n",
    "        year = candidates[0].replace('(', '')\n",
    "        year = year.replace(')', '')\n",
    "        return int(year)\n",
    "    else:\n",
    "        #если год не указан, возвращаем None\n",
    "        return None\n",
    "\n",
    "full_data['year release'] = full_data.title.apply(get_year_release)\n",
    "full_data['year release'].isna().sum()"
   ]
  },
  {
   "cell_type": "code",
   "execution_count": 61,
   "metadata": {},
   "outputs": [
    {
     "data": {
      "text/plain": [
       "'Bloodsport: The Dark Kumite (1999)'"
      ]
     },
     "execution_count": 61,
     "metadata": {},
     "output_type": "execute_result"
    }
   ],
   "source": [
    "# 8.2\n",
    "# Какой фильм, выпущенный в 1999 году, получил наименьшую среднюю оценку \n",
    "# зрителей?\n",
    "# В качестве ответа запишите название этого фильма без указания года его выпуска.\n",
    "full_data.groupby(['year release', 'title']).mean().loc[1999].rating.idxmin()"
   ]
  },
  {
   "cell_type": "code",
   "execution_count": 67,
   "metadata": {},
   "outputs": [
    {
     "data": {
      "text/plain": [
       "'Action|Sci-Fi'"
      ]
     },
     "execution_count": 67,
     "metadata": {},
     "output_type": "execute_result"
    }
   ],
   "source": [
    "# 8.3\n",
    "# Какое сочетание жанров фильмов (genres), выпущенных в 2010 году, получило наименьшую среднюю оценку (rating)?\n",
    "# Запишите сочетание так же, как оно указано в таблице (через разделитель |, без пробелов).\n",
    "full_data.groupby(['year release', 'genres']).mean().loc[2010].rating.idxmin()"
   ]
  },
  {
   "cell_type": "code",
   "execution_count": 79,
   "metadata": {},
   "outputs": [
    {
     "data": {
      "text/plain": [
       "599"
      ]
     },
     "execution_count": 79,
     "metadata": {},
     "output_type": "execute_result"
    }
   ],
   "source": [
    "# 8.4\n",
    "# Какой пользователь (userId) посмотрел наибольшее количество различных (уникальных) \n",
    "# комбинаций жанров (genres) фильмов? В качестве ответа запишите идентификатор этого пользователя.\n",
    "full_data.groupby(['userId']).nunique()['genres'].idxmax()"
   ]
  },
  {
   "cell_type": "code",
   "execution_count": 83,
   "metadata": {},
   "outputs": [
    {
     "data": {
      "text/plain": [
       "53"
      ]
     },
     "execution_count": 83,
     "metadata": {},
     "output_type": "execute_result"
    }
   ],
   "source": [
    "#  8.5\n",
    "# Найдите пользователя, который выставил наименьшее количество оценок, \n",
    "# но его средняя оценка фильмам наибольшая.\n",
    "# В качестве ответа укажите идентификатор этого пользователя.\n",
    "# Чтобы рассчитать несколько параметров для каждого пользователя \n",
    "# (количество оценок и среднюю оценку), можно воспользоваться методом agg() \n",
    "# на сгруппированных данных.\n",
    "full_data.groupby(['userId'])['rating'].agg(['count', 'mean']) \\\n",
    "    .sort_values(by=['count', 'mean'], ascending=[True, False]) \\\n",
    "    .index[0] "
   ]
  },
  {
   "cell_type": "code",
   "execution_count": 90,
   "metadata": {},
   "outputs": [
    {
     "data": {
      "text/plain": [
       "'Action|Adventure|Sci-Fi'"
      ]
     },
     "execution_count": 90,
     "metadata": {},
     "output_type": "execute_result"
    }
   ],
   "source": [
    "# 8.6\n",
    "# Найдите сочетание жанров (genres) за 2018 году, которое имеет наибольший \n",
    "# средний рейтинг (среднее по столбцу rating), и при этом число выставленных \n",
    "# ему оценок (количество значений в столбце rating) больше 10.\n",
    "# Запишите сочетание так же, как оно указано в таблице \n",
    "# (через разделитель |, без пробелов).\n",
    "# mask_year = full_data[]\n",
    "full_data[full_data['year release'] == 2018].groupby('genres')['rating'] \\\n",
    "    .agg(['mean', 'count']).query('count > 10')['mean'].idxmax()"
   ]
  },
  {
   "cell_type": "code",
   "execution_count": 93,
   "metadata": {},
   "outputs": [],
   "source": [
    "# 8.7\n",
    "# Добавьте в таблицу новый признак year_rating — год выставления оценки. \n",
    "# Создайте сводную таблицу, которая иллюстрирует зависимость среднего рейтинга \n",
    "# фильма от года выставления оценки и жанра. Выберите верные варианты ответа, \n",
    "# исходя из построенной таблицы:\n",
    "\n",
    "def get_year_rating(time):\n",
    "    if time:\n",
    "        return time.year\n",
    "    return None\n",
    "full_data['year_rating'] = full_data['date'].apply(get_year_rating)\n",
    "pv = full_data.pivot_table(index='year_rating', values='rating', columns='genres', aggfunc='mean')"
   ]
  },
  {
   "cell_type": "code",
   "execution_count": 96,
   "metadata": {},
   "outputs": [
    {
     "data": {
      "text/plain": [
       "True"
      ]
     },
     "execution_count": 96,
     "metadata": {},
     "output_type": "execute_result"
    }
   ],
   "source": [
    "# A. За весь период (с 1996 по 2018 год) сочетание жанров Action|Adventure \n",
    "#    ни разу не получало среднюю оценку ниже 3.\n",
    "pv['Action|Adventure'].min() >= 3"
   ]
  },
  {
   "cell_type": "code",
   "execution_count": 99,
   "metadata": {},
   "outputs": [
    {
     "data": {
      "text/plain": [
       "False"
      ]
     },
     "execution_count": 99,
     "metadata": {},
     "output_type": "execute_result"
    }
   ],
   "source": [
    "# B. Наилучшую оценку жанр Action|Adventure|Animation|Children|Comedy|IMAX \n",
    "#    получил в 2010 году.\n",
    "pv['Action|Adventure|Animation|Children|Comedy|IMAX'].idxmax() == 2010"
   ]
  },
  {
   "cell_type": "code",
   "execution_count": 107,
   "metadata": {},
   "outputs": [
    {
     "data": {
      "text/plain": [
       "True"
      ]
     },
     "execution_count": 107,
     "metadata": {},
     "output_type": "execute_result"
    }
   ],
   "source": [
    "# C. Среди сочетаний жанров, получивших наивысшую среднюю оценку в 2018 году, \n",
    "#    есть сочетание Animation|Children|Mystery.\n",
    "pv['Animation|Children|Mystery'].loc[2018] == pv.loc[2018].max()"
   ]
  },
  {
   "cell_type": "code",
   "execution_count": 114,
   "metadata": {},
   "outputs": [
    {
     "data": {
      "text/plain": [
       "False"
      ]
     },
     "execution_count": 114,
     "metadata": {},
     "output_type": "execute_result"
    }
   ],
   "source": [
    "# D. Для жанра Comedy прослеживается тенденция падения рейтинга с каждым годом \n",
    "#    (с 1996 по 2018).\n",
    "all(pv['Comedy'].sort_values(ascending=False).index == range(1996, 2019))"
   ]
  }
 ],
 "metadata": {
  "kernelspec": {
   "display_name": "Python 3.10.0 64-bit",
   "language": "python",
   "name": "python3"
  },
  "language_info": {
   "codemirror_mode": {
    "name": "ipython",
    "version": 3
   },
   "file_extension": ".py",
   "mimetype": "text/x-python",
   "name": "python",
   "nbconvert_exporter": "python",
   "pygments_lexer": "ipython3",
   "version": "3.10.0"
  },
  "orig_nbformat": 4,
  "vscode": {
   "interpreter": {
    "hash": "a42ccb73e7d9bfdf27e036f1d2b8b681e55fc0743cc5586bc2474d4a60f4b886"
   }
  }
 },
 "nbformat": 4,
 "nbformat_minor": 2
}
