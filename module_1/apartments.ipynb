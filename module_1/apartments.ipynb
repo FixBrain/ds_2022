{
 "cells": [
  {
   "cell_type": "markdown",
   "metadata": {},
   "source": [
    "# Изучение функционала pandas.DataFrame"
   ]
  },
  {
   "cell_type": "code",
   "execution_count": 2,
   "metadata": {},
   "outputs": [],
   "source": [
    "import pandas as pd"
   ]
  },
  {
   "cell_type": "code",
   "execution_count": 48,
   "metadata": {},
   "outputs": [],
   "source": [
    "melb_data = pd.read_csv('data/melb_data.csv', sep=',')\n",
    "fs = {x: x for x in [\n",
    "                    \"index\", # номер строки\n",
    "                    \"Suburb\", # наименование пригорода\n",
    "                    \"Address\", # адрес\n",
    "                    \"Rooms\", # количество комнат в помещении\n",
    "                    \"Type\", # тип здания (h — дом, коттедж, вилла, терраса; u — блочный, дуплексный дом; t — таунхаус)\n",
    "                    \"Price\", # цена помещения\n",
    "                    \"Method\", # метод продажи \n",
    "                    \"SellerG\", # риэлторская компания\n",
    "                    \"Date\", # дата продажи (в формате день/месяц/год)\n",
    "                    \"Distance\", # расстояния до объекта от центра Мельбурна \n",
    "                    \"Postcode\", # почтовый индекс\n",
    "                    \"Bedroom\", # количество спален\n",
    "                    \"Bathroom\", # количество ванных комнат\n",
    "                    \"Car\", # количество парковочных мест\n",
    "                    \"Landsize\", # площадь прилегающей территории\n",
    "                    \"BuildingArea\", # площадь здания\n",
    "                    \"YearBuilt\", # год постройки\n",
    "                    \"CouncilArea\", # региональное управление\n",
    "                    \"Lattitude\", # географическая широта\n",
    "                    \"Longitude\", # географическая долгота\n",
    "                    \"Regionname\", # наименование района Мельбурна\n",
    "                    \"Propertycount\", # количество объектов недвижимости в районе\n",
    "                    \"Coordinates\" # широта и долгота, объединённые в кортеж \n",
    "                    ]\n",
    "}"
   ]
  },
  {
   "cell_type": "markdown",
   "metadata": {},
   "source": [
    "## Ответы на вопросы тестов"
   ]
  },
  {
   "cell_type": "markdown",
   "metadata": {},
   "source": [
    "### Блок 5"
   ]
  },
  {
   "cell_type": "code",
   "execution_count": 6,
   "metadata": {},
   "outputs": [
    {
     "data": {
      "text/plain": [
       "1310000.0"
      ]
     },
     "execution_count": 6,
     "metadata": {},
     "output_type": "execute_result"
    }
   ],
   "source": [
    "# 5.1\n",
    "# #  Какова цена объекта недвижимости под индексом 15?\n",
    "melb_data.loc[15, fs['Price']]"
   ]
  },
  {
   "cell_type": "code",
   "execution_count": 7,
   "metadata": {},
   "outputs": [
    {
     "data": {
      "text/plain": [
       "'10/09/2016'"
      ]
     },
     "execution_count": 7,
     "metadata": {},
     "output_type": "execute_result"
    }
   ],
   "source": [
    "# 5.2\n",
    "# Когда был продан объект под индексом 90?\n",
    "melb_data.loc[90, fs['Date']]"
   ]
  },
  {
   "cell_type": "code",
   "execution_count": 10,
   "metadata": {},
   "outputs": [
    {
     "data": {
      "text/plain": [
       "3.0"
      ]
     },
     "execution_count": 10,
     "metadata": {},
     "output_type": "execute_result"
    }
   ],
   "source": [
    "# 5.3\n",
    "# Во сколько раз площадь прилегающей территории, на которой находится здание с индексом 3521, \n",
    "# больше площади участка, на котором находится здание с индексом 1690? \n",
    "# Ответ округлите до целого числа.\n",
    "round(melb_data.loc[3521, fs['Landsize']] / melb_data.loc[1690, fs['Landsize']], 0)"
   ]
  },
  {
   "cell_type": "markdown",
   "metadata": {},
   "source": [
    "### Блок 6"
   ]
  },
  {
   "cell_type": "code",
   "execution_count": 13,
   "metadata": {},
   "outputs": [
    {
     "data": {
      "text/plain": [
       "1369"
      ]
     },
     "execution_count": 13,
     "metadata": {},
     "output_type": "execute_result"
    }
   ],
   "source": [
    "# 6.5\n",
    "# Сколько пропущенных значений в столбце CouncilArea?\n",
    "melb_data.CouncilArea.isna().sum()\n"
   ]
  },
  {
   "cell_type": "code",
   "execution_count": 49,
   "metadata": {},
   "outputs": [
    {
     "name": "stdout",
     "output_type": "stream",
     "text": [
      "<class 'pandas.core.frame.DataFrame'>\n",
      "RangeIndex: 13580 entries, 0 to 13579\n",
      "Data columns (total 23 columns):\n",
      " #   Column         Non-Null Count  Dtype  \n",
      "---  ------         --------------  -----  \n",
      " 0   index          13580 non-null  int64  \n",
      " 1   Suburb         13580 non-null  object \n",
      " 2   Address        13580 non-null  object \n",
      " 3   Rooms          13580 non-null  int64  \n",
      " 4   Type           13580 non-null  object \n",
      " 5   Price          13580 non-null  float64\n",
      " 6   Method         13580 non-null  object \n",
      " 7   SellerG        13580 non-null  object \n",
      " 8   Date           13580 non-null  object \n",
      " 9   Distance       13580 non-null  float64\n",
      " 10  Postcode       13580 non-null  int64  \n",
      " 11  Bedroom        13580 non-null  int64  \n",
      " 12  Bathroom       13580 non-null  int64  \n",
      " 13  Car            13580 non-null  int64  \n",
      " 14  Landsize       13580 non-null  float64\n",
      " 15  BuildingArea   13580 non-null  float64\n",
      " 16  YearBuilt      13580 non-null  int64  \n",
      " 17  CouncilArea    12211 non-null  object \n",
      " 18  Lattitude      13580 non-null  float64\n",
      " 19  Longtitude     13580 non-null  float64\n",
      " 20  Regionname     13580 non-null  object \n",
      " 21  Propertycount  13580 non-null  int64  \n",
      " 22  Coordinates    13580 non-null  object \n",
      "dtypes: float64(6), int64(8), object(9)\n",
      "memory usage: 2.4+ MB\n"
     ]
    }
   ],
   "source": [
    "# 6.6\n",
    "# Сколько столбцов после преобразования типов имеет целочисленный тип данных?\n",
    "melb_data['Car'] = melb_data['Car'].astype('int64')\n",
    "melb_data['Bedroom'] = melb_data['Bedroom'].astype('int64')\n",
    "melb_data['Bathroom'] = melb_data['Bathroom'].astype('int64')\n",
    "melb_data['Propertycount'] = melb_data['Propertycount'].astype('int64')\n",
    "melb_data['YearBuilt'] = melb_data['YearBuilt'].astype('int64')\n",
    "melb_data.info()\n",
    "# 7\n",
    "# стоит заметить, что если вывод не содержит всех столбцов, то нужно посмотреть расширенный текстовый вывод"
   ]
  },
  {
   "cell_type": "code",
   "execution_count": 23,
   "metadata": {},
   "outputs": [
    {
     "data": {
      "text/plain": [
       "0.0"
      ]
     },
     "execution_count": 23,
     "metadata": {},
     "output_type": "execute_result"
    }
   ],
   "source": [
    "# 6.7\n",
    "# Выберите верные утверждения в отношении таблицы melb_data:\n",
    "# A. Среднее и медианное значения цены дома в таблице отличаются более чем в 10 раз\n",
    "melb_data.Price.mean() / melb_data.Price.median() # - 1.19\n",
    "\n",
    "# B. Половина проданных зданий находится на расстоянии от 6.1 до 13 километров от центра города\n",
    "melb_data.Distance.quantile(0.25), melb_data.Distance.quantile(0.5), melb_data.Distance.quantile(0.75) # (6.1, 9.2, 13.0) +\n",
    "\n",
    "# C. Средняя площадь здания составляет более 180 квадратных метров\n",
    "melb_data.BuildingArea.mean() # 139.63 -\n",
    "\n",
    "# D. В данных есть как минимум одно жилое помещение, которое находится ровно в той точке, которая считается центром\n",
    "melb_data.Distance.min() # 0.0 + "
   ]
  },
  {
   "cell_type": "code",
   "execution_count": 32,
   "metadata": {},
   "outputs": [
    {
     "data": {
      "text/plain": [
       "Reservoir         359\n",
       "Richmond          260\n",
       "Bentleigh East    249\n",
       "Preston           239\n",
       "Brunswick         222\n",
       "                 ... \n",
       "Sandhurst           1\n",
       "Bullengarook        1\n",
       "Croydon South       1\n",
       "Montrose            1\n",
       "Monbulk             1\n",
       "Name: Suburb, Length: 314, dtype: int64"
      ]
     },
     "execution_count": 32,
     "metadata": {},
     "output_type": "execute_result"
    }
   ],
   "source": [
    "# 6.8\n",
    "#Задание 6.8\n",
    "#Выберите верные утверждения в отношении таблицы melb_data:\n",
    "#A. Наименьшее число объектов расположено в районе Southern Metropolitan - (потому что наибольшее)\n",
    "melb_data.Regionname.value_counts()\n",
    "'''\n",
    "Southern Metropolitan         4695  v \n",
    "Northern Metropolitan         3890\n",
    "Western Metropolitan          2948\n",
    "Eastern Metropolitan          1471\n",
    "South-Eastern Metropolitan     450\n",
    "Eastern Victoria                53\n",
    "Northern Victoria               41\n",
    "Western Victoria                32\n",
    "'''\n",
    "\n",
    "#B. Мельбурн и его пригороды разделены как минимум на восемь районов +\n",
    "\n",
    "\n",
    "#C. У некоторых различных адресов в таблице совпадают географические координаты +\n",
    "melb_data.Coordinates.describe()\n",
    "'''\n",
    "count                  13580\n",
    "unique                 13097\n",
    "top       -37.8361, 144.9966\n",
    "freq                      12 +\n",
    "'''\n",
    "\n",
    "#D. В пригороде Reservoir расположено наибольшее число проданных объектов - 359 +\n",
    "melb_data.Suburb.value_counts()"
   ]
  },
  {
   "cell_type": "code",
   "execution_count": 36,
   "metadata": {},
   "outputs": [
    {
     "data": {
      "text/plain": [
       "h    0.695803\n",
       "u    0.222165\n",
       "t    0.082032\n",
       "Name: Type, dtype: float64"
      ]
     },
     "execution_count": 36,
     "metadata": {},
     "output_type": "execute_result"
    }
   ],
   "source": [
    "# 6.9\n",
    "# Сколько процентов от общего количества домов составляют таунхаусы (тип объекта — t)?\n",
    "melb_data.Type.value_counts(normalize=True) # 0.082032"
   ]
  },
  {
   "cell_type": "markdown",
   "metadata": {},
   "source": [
    "### Блок 7"
   ]
  },
  {
   "cell_type": "code",
   "execution_count": 37,
   "metadata": {},
   "outputs": [
    {
     "data": {
      "text/plain": [
       "21650"
      ]
     },
     "execution_count": 37,
     "metadata": {},
     "output_type": "execute_result"
    }
   ],
   "source": [
    "# 7.2\n",
    "# Чему равно максимальное количество домов на продажу в районе (Propertycount)?\n",
    "melb_data.Propertycount.max()"
   ]
  },
  {
   "cell_type": "code",
   "execution_count": 39,
   "metadata": {},
   "outputs": [
    {
     "data": {
      "text/plain": [
       "6.0"
      ]
     },
     "execution_count": 39,
     "metadata": {},
     "output_type": "execute_result"
    }
   ],
   "source": [
    "# 7.3\n",
    "# Чему равно стандартное отклонение (разброс) расстояния от центра города до объекта недвижимости?\n",
    "round(melb_data.Distance.std(), 0)"
   ]
  },
  {
   "cell_type": "code",
   "execution_count": 41,
   "metadata": {},
   "outputs": [
    {
     "data": {
      "text/plain": [
       "10"
      ]
     },
     "execution_count": 41,
     "metadata": {},
     "output_type": "execute_result"
    }
   ],
   "source": [
    "# 7.4\n",
    "# Чему равно отклонение (в процентах) медианного значения площади здания от его среднего значения?\n",
    "int(round( 100*abs(melb_data.BuildingArea.median() - melb_data.BuildingArea.mean()) / melb_data.BuildingArea.mean() , 0))"
   ]
  },
  {
   "cell_type": "code",
   "execution_count": 42,
   "metadata": {},
   "outputs": [
    {
     "data": {
      "text/plain": [
       "0    2\n",
       "dtype: int64"
      ]
     },
     "execution_count": 42,
     "metadata": {},
     "output_type": "execute_result"
    }
   ],
   "source": [
    "# 7.5\n",
    "# Задан ряд чисел [1, 2, 4, 2, 3, 2, 1, 5, 6]. Чему равна мода в данном ряду?\n",
    "row = pd.Series([1, 2, 4, 2, 3, 2, 1, 5, 6])\n",
    "row.mode()\n"
   ]
  },
  {
   "cell_type": "code",
   "execution_count": 45,
   "metadata": {},
   "outputs": [
    {
     "data": {
      "text/plain": [
       "0    3\n",
       "Name: Bedroom, dtype: int64"
      ]
     },
     "execution_count": 45,
     "metadata": {},
     "output_type": "execute_result"
    }
   ],
   "source": [
    "# 7.6\n",
    "# Сколько спален чаще всего встречается в домах в Мельбурне?\n",
    "melb_data.Bedroom.mode()"
   ]
  },
  {
   "cell_type": "markdown",
   "metadata": {},
   "source": [
    "### Блок 8"
   ]
  },
  {
   "cell_type": "code",
   "execution_count": 57,
   "metadata": {},
   "outputs": [
    {
     "data": {
      "text/plain": [
       "(34, 34)"
      ]
     },
     "execution_count": 57,
     "metadata": {},
     "output_type": "execute_result"
    }
   ],
   "source": [
    "# 8.1\n",
    "# У скольких объектов недвижимости из таблицы melb_data отсутствуют ванные комнаты?\n",
    "melb_data[melb_data['Bathroom'] == 0].shape[0], melb_data[melb_data['Bathroom'] == 0].Bathroom.size"
   ]
  },
  {
   "cell_type": "code",
   "execution_count": 58,
   "metadata": {},
   "outputs": [
    {
     "data": {
      "text/plain": [
       "5"
      ]
     },
     "execution_count": 58,
     "metadata": {},
     "output_type": "execute_result"
    }
   ],
   "source": [
    "# 8.2\n",
    "# Сколько в таблице melb_data объектов недвижимости, которые были проданы риелторской компанией Nelson и стоимость которых составила больше 3 миллионов?\n",
    "melb_data[(melb_data['SellerG'] == 'Nelson') & (melb_data['Price'] > 3_000_000)].shape[0]"
   ]
  },
  {
   "cell_type": "code",
   "execution_count": 60,
   "metadata": {},
   "outputs": [
    {
     "data": {
      "text/plain": [
       "412500.0"
      ]
     },
     "execution_count": 60,
     "metadata": {},
     "output_type": "execute_result"
    }
   ],
   "source": [
    "# 8.3\n",
    "# Какова минимальная стоимость участка без здания (площадь здания равна 0) в таблице melb_data?\n",
    "melb_data[melb_data.BuildingArea == 0].Price.min()"
   ]
  },
  {
   "cell_type": "code",
   "execution_count": 71,
   "metadata": {},
   "outputs": [
    {
     "data": {
      "text/plain": [
       "764155.1724137932"
      ]
     },
     "execution_count": 71,
     "metadata": {},
     "output_type": "execute_result"
    }
   ],
   "source": [
    "# 8.4\n",
    "# Какова средняя цена объектов недвижимости в таблице melb_data с ценой менее одного миллиона, \n",
    "# в которых либо количество комнат больше пяти, либо здание моложе 2015 года?\n",
    "melb_data[(melb_data.Price < 1_000_000) & \n",
    "          (((melb_data.Rooms > 5) & (melb_data.YearBuilt >= 2015)) | ((melb_data.Rooms <= 5) & (melb_data.YearBuilt > 2015)))]\\\n",
    "          .Price.mean()\n",
    "#melb_data[(melb_data.Price < 1_000_000) & \n",
    "#          ((melb_data.Rooms > 5) | (melb_data.YearBuilt > 2015))].Price.mean()\n"
   ]
  },
  {
   "cell_type": "code",
   "execution_count": 72,
   "metadata": {},
   "outputs": [
    {
     "data": {
      "text/plain": [
       "Northern Metropolitan         2737\n",
       "Southern Metropolitan         2520\n",
       "Western Metropolitan          2286\n",
       "Eastern Metropolitan          1167\n",
       "South-Eastern Metropolitan     387\n",
       "Eastern Victoria                50\n",
       "Northern Victoria               41\n",
       "Western Victoria                32\n",
       "Name: Regionname, dtype: int64"
      ]
     },
     "execution_count": 72,
     "metadata": {},
     "output_type": "execute_result"
    }
   ],
   "source": [
    "# 8.5\n",
    "#В каком районе Мельбурна чаще всего продаются виллы и коттеджи (тип здания — h) с ценой меньше трёх миллионов?\n",
    "# - Northern Metropolitan +\n",
    "# - Southern Metropolitan\n",
    "# - Eastern Victoria\n",
    "# - Northern Victoria\n",
    "melb_data.Regionname[(melb_data.Price < 3_000_000) & (melb_data.Type == 'h')].value_counts()"
   ]
  }
 ],
 "metadata": {
  "kernelspec": {
   "display_name": "Python 3.10.0 64-bit",
   "language": "python",
   "name": "python3"
  },
  "language_info": {
   "codemirror_mode": {
    "name": "ipython",
    "version": 3
   },
   "file_extension": ".py",
   "mimetype": "text/x-python",
   "name": "python",
   "nbconvert_exporter": "python",
   "pygments_lexer": "ipython3",
   "version": "3.10.0"
  },
  "orig_nbformat": 4,
  "vscode": {
   "interpreter": {
    "hash": "a42ccb73e7d9bfdf27e036f1d2b8b681e55fc0743cc5586bc2474d4a60f4b886"
   }
  }
 },
 "nbformat": 4,
 "nbformat_minor": 2
}
