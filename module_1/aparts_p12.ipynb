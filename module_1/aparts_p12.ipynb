{
 "cells": [
  {
   "cell_type": "code",
   "execution_count": 1,
   "metadata": {},
   "outputs": [
    {
     "data": {
      "text/html": [
       "<div>\n",
       "<style scoped>\n",
       "    .dataframe tbody tr th:only-of-type {\n",
       "        vertical-align: middle;\n",
       "    }\n",
       "\n",
       "    .dataframe tbody tr th {\n",
       "        vertical-align: top;\n",
       "    }\n",
       "\n",
       "    .dataframe thead th {\n",
       "        text-align: right;\n",
       "    }\n",
       "</style>\n",
       "<table border=\"1\" class=\"dataframe\">\n",
       "  <thead>\n",
       "    <tr style=\"text-align: right;\">\n",
       "      <th></th>\n",
       "      <th>Suburb</th>\n",
       "      <th>Rooms</th>\n",
       "      <th>Type</th>\n",
       "      <th>Price</th>\n",
       "      <th>Method</th>\n",
       "      <th>SellerG</th>\n",
       "      <th>Date</th>\n",
       "      <th>Distance</th>\n",
       "      <th>Postcode</th>\n",
       "      <th>Bedroom</th>\n",
       "      <th>...</th>\n",
       "      <th>Longtitude</th>\n",
       "      <th>Regionname</th>\n",
       "      <th>Propertycount</th>\n",
       "      <th>MeanRoomsSquare</th>\n",
       "      <th>AreaRatio</th>\n",
       "      <th>MonthSale</th>\n",
       "      <th>AgeBuilding</th>\n",
       "      <th>WeekdaySale</th>\n",
       "      <th>StreetType</th>\n",
       "      <th>Weekend</th>\n",
       "    </tr>\n",
       "  </thead>\n",
       "  <tbody>\n",
       "    <tr>\n",
       "      <th>0</th>\n",
       "      <td>Abbotsford</td>\n",
       "      <td>2</td>\n",
       "      <td>house</td>\n",
       "      <td>1480000.0</td>\n",
       "      <td>S</td>\n",
       "      <td>Biggin</td>\n",
       "      <td>2016-03-12</td>\n",
       "      <td>2.5</td>\n",
       "      <td>3067</td>\n",
       "      <td>2</td>\n",
       "      <td>...</td>\n",
       "      <td>144.9984</td>\n",
       "      <td>Northern Metropolitan</td>\n",
       "      <td>4019</td>\n",
       "      <td>25.20</td>\n",
       "      <td>-0.231707</td>\n",
       "      <td>3</td>\n",
       "      <td>46</td>\n",
       "      <td>5</td>\n",
       "      <td>St</td>\n",
       "      <td>1</td>\n",
       "    </tr>\n",
       "    <tr>\n",
       "      <th>1</th>\n",
       "      <td>Abbotsford</td>\n",
       "      <td>2</td>\n",
       "      <td>house</td>\n",
       "      <td>1035000.0</td>\n",
       "      <td>S</td>\n",
       "      <td>Biggin</td>\n",
       "      <td>2016-04-02</td>\n",
       "      <td>2.5</td>\n",
       "      <td>3067</td>\n",
       "      <td>2</td>\n",
       "      <td>...</td>\n",
       "      <td>144.9934</td>\n",
       "      <td>Northern Metropolitan</td>\n",
       "      <td>4019</td>\n",
       "      <td>15.80</td>\n",
       "      <td>-0.327660</td>\n",
       "      <td>4</td>\n",
       "      <td>116</td>\n",
       "      <td>5</td>\n",
       "      <td>St</td>\n",
       "      <td>1</td>\n",
       "    </tr>\n",
       "    <tr>\n",
       "      <th>2</th>\n",
       "      <td>Abbotsford</td>\n",
       "      <td>3</td>\n",
       "      <td>house</td>\n",
       "      <td>1465000.0</td>\n",
       "      <td>SP</td>\n",
       "      <td>Biggin</td>\n",
       "      <td>2017-04-03</td>\n",
       "      <td>2.5</td>\n",
       "      <td>3067</td>\n",
       "      <td>3</td>\n",
       "      <td>...</td>\n",
       "      <td>144.9944</td>\n",
       "      <td>Northern Metropolitan</td>\n",
       "      <td>4019</td>\n",
       "      <td>18.75</td>\n",
       "      <td>0.056338</td>\n",
       "      <td>4</td>\n",
       "      <td>117</td>\n",
       "      <td>0</td>\n",
       "      <td>St</td>\n",
       "      <td>0</td>\n",
       "    </tr>\n",
       "    <tr>\n",
       "      <th>3</th>\n",
       "      <td>Abbotsford</td>\n",
       "      <td>3</td>\n",
       "      <td>house</td>\n",
       "      <td>850000.0</td>\n",
       "      <td>PI</td>\n",
       "      <td>Biggin</td>\n",
       "      <td>2017-04-03</td>\n",
       "      <td>2.5</td>\n",
       "      <td>3067</td>\n",
       "      <td>3</td>\n",
       "      <td>...</td>\n",
       "      <td>144.9969</td>\n",
       "      <td>Northern Metropolitan</td>\n",
       "      <td>4019</td>\n",
       "      <td>15.75</td>\n",
       "      <td>0.145455</td>\n",
       "      <td>4</td>\n",
       "      <td>47</td>\n",
       "      <td>0</td>\n",
       "      <td>other</td>\n",
       "      <td>0</td>\n",
       "    </tr>\n",
       "    <tr>\n",
       "      <th>4</th>\n",
       "      <td>Abbotsford</td>\n",
       "      <td>4</td>\n",
       "      <td>house</td>\n",
       "      <td>1600000.0</td>\n",
       "      <td>VB</td>\n",
       "      <td>Nelson</td>\n",
       "      <td>2016-04-06</td>\n",
       "      <td>2.5</td>\n",
       "      <td>3067</td>\n",
       "      <td>3</td>\n",
       "      <td>...</td>\n",
       "      <td>144.9941</td>\n",
       "      <td>Northern Metropolitan</td>\n",
       "      <td>4019</td>\n",
       "      <td>17.75</td>\n",
       "      <td>0.083969</td>\n",
       "      <td>4</td>\n",
       "      <td>2</td>\n",
       "      <td>2</td>\n",
       "      <td>St</td>\n",
       "      <td>0</td>\n",
       "    </tr>\n",
       "  </tbody>\n",
       "</table>\n",
       "<p>5 rows × 26 columns</p>\n",
       "</div>"
      ],
      "text/plain": [
       "       Suburb  Rooms   Type      Price Method SellerG        Date  Distance  \\\n",
       "0  Abbotsford      2  house  1480000.0      S  Biggin  2016-03-12       2.5   \n",
       "1  Abbotsford      2  house  1035000.0      S  Biggin  2016-04-02       2.5   \n",
       "2  Abbotsford      3  house  1465000.0     SP  Biggin  2017-04-03       2.5   \n",
       "3  Abbotsford      3  house   850000.0     PI  Biggin  2017-04-03       2.5   \n",
       "4  Abbotsford      4  house  1600000.0     VB  Nelson  2016-04-06       2.5   \n",
       "\n",
       "   Postcode  Bedroom  ...  Longtitude             Regionname  Propertycount  \\\n",
       "0      3067        2  ...    144.9984  Northern Metropolitan           4019   \n",
       "1      3067        2  ...    144.9934  Northern Metropolitan           4019   \n",
       "2      3067        3  ...    144.9944  Northern Metropolitan           4019   \n",
       "3      3067        3  ...    144.9969  Northern Metropolitan           4019   \n",
       "4      3067        3  ...    144.9941  Northern Metropolitan           4019   \n",
       "\n",
       "   MeanRoomsSquare AreaRatio  MonthSale  AgeBuilding WeekdaySale  StreetType  \\\n",
       "0            25.20 -0.231707          3           46           5          St   \n",
       "1            15.80 -0.327660          4          116           5          St   \n",
       "2            18.75  0.056338          4          117           0          St   \n",
       "3            15.75  0.145455          4           47           0       other   \n",
       "4            17.75  0.083969          4            2           2          St   \n",
       "\n",
       "   Weekend  \n",
       "0        1  \n",
       "1        1  \n",
       "2        0  \n",
       "3        0  \n",
       "4        0  \n",
       "\n",
       "[5 rows x 26 columns]"
      ]
     },
     "execution_count": 1,
     "metadata": {},
     "output_type": "execute_result"
    }
   ],
   "source": [
    "import pandas as pd\n",
    "\n",
    "melb_df = pd.read_csv('data/melb_data_fe.csv')\n",
    "melb_df.head()"
   ]
  },
  {
   "cell_type": "code",
   "execution_count": 2,
   "metadata": {},
   "outputs": [
    {
     "name": "stdout",
     "output_type": "stream",
     "text": [
      "<class 'pandas.core.frame.DataFrame'>\n",
      "RangeIndex: 13580 entries, 0 to 13579\n",
      "Data columns (total 26 columns):\n",
      " #   Column           Non-Null Count  Dtype  \n",
      "---  ------           --------------  -----  \n",
      " 0   Suburb           13580 non-null  object \n",
      " 1   Rooms            13580 non-null  int64  \n",
      " 2   Type             13580 non-null  object \n",
      " 3   Price            13580 non-null  float64\n",
      " 4   Method           13580 non-null  object \n",
      " 5   SellerG          13580 non-null  object \n",
      " 6   Date             13580 non-null  object \n",
      " 7   Distance         13580 non-null  float64\n",
      " 8   Postcode         13580 non-null  int64  \n",
      " 9   Bedroom          13580 non-null  int64  \n",
      " 10  Bathroom         13580 non-null  int64  \n",
      " 11  Car              13580 non-null  int64  \n",
      " 12  Landsize         13580 non-null  float64\n",
      " 13  BuildingArea     13580 non-null  float64\n",
      " 14  CouncilArea      12211 non-null  object \n",
      " 15  Lattitude        13580 non-null  float64\n",
      " 16  Longtitude       13580 non-null  float64\n",
      " 17  Regionname       13580 non-null  object \n",
      " 18  Propertycount    13580 non-null  int64  \n",
      " 19  MeanRoomsSquare  13580 non-null  float64\n",
      " 20  AreaRatio        13580 non-null  float64\n",
      " 21  MonthSale        13580 non-null  int64  \n",
      " 22  AgeBuilding      13580 non-null  int64  \n",
      " 23  WeekdaySale      13580 non-null  int64  \n",
      " 24  StreetType       13580 non-null  object \n",
      " 25  Weekend          13580 non-null  int64  \n",
      "dtypes: float64(8), int64(10), object(8)\n",
      "memory usage: 2.7+ MB\n"
     ]
    }
   ],
   "source": [
    "melb_df.info()"
   ]
  },
  {
   "cell_type": "code",
   "execution_count": null,
   "metadata": {},
   "outputs": [],
   "source": [
    "# 1.1\n",
    "# Преобразуйте столбец Date в формат datetime и выделите квартал (quarter) \n",
    "# продажи объектов недвижимости. Найдите второй по популярности квартал продажи. \n",
    "# В качестве ответа запишите число объектов, проданных в этом квартале."
   ]
  },
  {
   "cell_type": "code",
   "execution_count": 3,
   "metadata": {},
   "outputs": [],
   "source": [
    "melb_df.Date = pd.to_datetime(melb_df.Date)"
   ]
  },
  {
   "cell_type": "code",
   "execution_count": 9,
   "metadata": {},
   "outputs": [
    {
     "data": {
      "text/plain": [
       "4359"
      ]
     },
     "execution_count": 9,
     "metadata": {},
     "output_type": "execute_result"
    }
   ],
   "source": [
    "freq = melb_df.Date.dt.quarter.value_counts()\n",
    "freq[freq.index[1]]"
   ]
  },
  {
   "cell_type": "code",
   "execution_count": 10,
   "metadata": {},
   "outputs": [
    {
     "data": {
      "text/plain": [
       "10"
      ]
     },
     "execution_count": 10,
     "metadata": {},
     "output_type": "execute_result"
    }
   ],
   "source": [
    "# 1.2\n",
    "# Преобразуйте все столбцы, в которых меньше 150 уникальных значений, \n",
    "# в тип данных category, исключив из преобразования столбцы Date, Rooms, Bedroom, Bathroom, Car.\n",
    "# В качестве ответа запишите результирующее количество столбцов, \n",
    "# которые имеют тип данных category.\n",
    "c = 0\n",
    "for col in melb_df.columns:\n",
    "    if col not in {'Date', 'Rooms', 'Bedroom', 'Bathroom', 'Car'} and melb_df[col].nunique() < 150:\n",
    "        c += 1\n",
    "        melb_df[col] = melb_df[col].astype('category')\n",
    "c"
   ]
  },
  {
   "cell_type": "code",
   "execution_count": null,
   "metadata": {},
   "outputs": [],
   "source": [
    "# сортировка\n",
    "melb_df.sort_values(by=['Distance', 'Price']).head(10)[['Distance', 'Price']]"
   ]
  },
  {
   "cell_type": "code",
   "execution_count": 23,
   "metadata": {},
   "outputs": [
    {
     "data": {
      "text/html": [
       "<div>\n",
       "<style scoped>\n",
       "    .dataframe tbody tr th:only-of-type {\n",
       "        vertical-align: middle;\n",
       "    }\n",
       "\n",
       "    .dataframe tbody tr th {\n",
       "        vertical-align: top;\n",
       "    }\n",
       "\n",
       "    .dataframe thead th {\n",
       "        text-align: right;\n",
       "    }\n",
       "</style>\n",
       "<table border=\"1\" class=\"dataframe\">\n",
       "  <thead>\n",
       "    <tr style=\"text-align: right;\">\n",
       "      <th></th>\n",
       "      <th>Distance</th>\n",
       "      <th>Price</th>\n",
       "    </tr>\n",
       "  </thead>\n",
       "  <tbody>\n",
       "    <tr>\n",
       "      <th>11428</th>\n",
       "      <td>0.0</td>\n",
       "      <td>387000.0</td>\n",
       "    </tr>\n",
       "    <tr>\n",
       "      <th>12074</th>\n",
       "      <td>0.0</td>\n",
       "      <td>540000.0</td>\n",
       "    </tr>\n",
       "    <tr>\n",
       "      <th>12073</th>\n",
       "      <td>0.0</td>\n",
       "      <td>565000.0</td>\n",
       "    </tr>\n",
       "    <tr>\n",
       "      <th>10393</th>\n",
       "      <td>0.0</td>\n",
       "      <td>720000.0</td>\n",
       "    </tr>\n",
       "    <tr>\n",
       "      <th>9620</th>\n",
       "      <td>0.0</td>\n",
       "      <td>740000.0</td>\n",
       "    </tr>\n",
       "    <tr>\n",
       "      <th>10739</th>\n",
       "      <td>0.0</td>\n",
       "      <td>1075000.0</td>\n",
       "    </tr>\n",
       "    <tr>\n",
       "      <th>9331</th>\n",
       "      <td>0.7</td>\n",
       "      <td>422000.0</td>\n",
       "    </tr>\n",
       "    <tr>\n",
       "      <th>9729</th>\n",
       "      <td>0.7</td>\n",
       "      <td>422500.0</td>\n",
       "    </tr>\n",
       "    <tr>\n",
       "      <th>9332</th>\n",
       "      <td>0.7</td>\n",
       "      <td>590000.0</td>\n",
       "    </tr>\n",
       "    <tr>\n",
       "      <th>10511</th>\n",
       "      <td>0.7</td>\n",
       "      <td>600000.0</td>\n",
       "    </tr>\n",
       "  </tbody>\n",
       "</table>\n",
       "</div>"
      ],
      "text/plain": [
       "       Distance      Price\n",
       "11428       0.0   387000.0\n",
       "12074       0.0   540000.0\n",
       "12073       0.0   565000.0\n",
       "10393       0.0   720000.0\n",
       "9620        0.0   740000.0\n",
       "10739       0.0  1075000.0\n",
       "9331        0.7   422000.0\n",
       "9729        0.7   422500.0\n",
       "9332        0.7   590000.0\n",
       "10511       0.7   600000.0"
      ]
     },
     "execution_count": 23,
     "metadata": {},
     "output_type": "execute_result"
    }
   ],
   "source": [
    "# сортировка\n",
    "sort1 = melb_df.sort_values(by='Price')\n",
    "sort2 = sort1.sort_values(by='Distance', kind='stable')\n",
    "sort2.head(10)[['Distance', 'Price']]"
   ]
  },
  {
   "cell_type": "code",
   "execution_count": 24,
   "metadata": {},
   "outputs": [
    {
     "data": {
      "text/plain": [
       "Distance          0.0\n",
       "Price       1075000.0\n",
       "Name: 10739, dtype: object"
      ]
     },
     "execution_count": 24,
     "metadata": {},
     "output_type": "execute_result"
    }
   ],
   "source": [
    "melb_df.loc[10739][['Distance', 'Price']]"
   ]
  },
  {
   "cell_type": "code",
   "execution_count": 26,
   "metadata": {},
   "outputs": [
    {
     "data": {
      "text/plain": [
       "126.0"
      ]
     },
     "execution_count": 26,
     "metadata": {},
     "output_type": "execute_result"
    }
   ],
   "source": [
    "# 2.2\n",
    "# Произведите сортировку столбца AreaRatio по убыванию. \n",
    "# При этом индексы полученной таблицы замените на новые. \n",
    "# Какое значение площади здания находится в строке 1558? \n",
    "# Ответ округлите до целого числа.\n",
    "sorted = melb_df.sort_values(by='AreaRatio', ignore_index=True, ascending=False)\n",
    "sorted['BuildingArea'][1558]"
   ]
  },
  {
   "cell_type": "code",
   "execution_count": 35,
   "metadata": {},
   "outputs": [
    {
     "name": "stderr",
     "output_type": "stream",
     "text": [
      "C:\\Users\\Admin\\AppData\\Local\\Temp\\ipykernel_15604\\3897793257.py:8: SettingWithCopyWarning: \n",
      "A value is trying to be set on a copy of a slice from a DataFrame\n",
      "\n",
      "See the caveats in the documentation: https://pandas.pydata.org/pandas-docs/stable/user_guide/indexing.html#returning-a-view-versus-a-copy\n",
      "  t2.sort_values(inplace=True, by=['Rooms', 'MeanRoomsSquare'],\n"
     ]
    },
    {
     "data": {
      "text/plain": [
       "1300000.0"
      ]
     },
     "execution_count": 35,
     "metadata": {},
     "output_type": "execute_result"
    }
   ],
   "source": [
    "# 2.3\n",
    "# Найдите таунхаусы (Type) с количеством жилых комнат (Rooms) больше 2. \n",
    "# Отсортируйте полученную таблицу сначала по возрастанию числа комнат,\n",
    "#  а затем по убыванию средней площади комнат (MeanRoomsSquare). \n",
    "# Индексы таблицы замените на новые. Какая цена будет у объекта в строке 18? \n",
    "# Ответ запишите в виде целого числа.\n",
    "t2 = melb_df[(melb_df['Type'] == 'townhouse') & (melb_df['Rooms'] > 2)]\n",
    "t2.sort_values(inplace=True, by=['Rooms', 'MeanRoomsSquare'],\n",
    "                ignore_index=True, ascending=[True, False])\n",
    "t2['Price'][18]"
   ]
  },
  {
   "cell_type": "code",
   "execution_count": 50,
   "metadata": {},
   "outputs": [
    {
     "data": {
      "text/plain": [
       "7"
      ]
     },
     "execution_count": 50,
     "metadata": {},
     "output_type": "execute_result"
    }
   ],
   "source": [
    "# 3.1\n",
    "# Сгруппируйте данные по признаку количества комнат и найдите среднюю цену \n",
    "# объектов недвижимости в каждой группе. В качестве ответа запишите количество \n",
    "# комнат, для которых средняя цена наибольшая.\n",
    "melb_df.groupby('Rooms')['Price'] \\\n",
    "    .mean() \\\n",
    "    .idxmax()"
   ]
  },
  {
   "cell_type": "code",
   "execution_count": 51,
   "metadata": {},
   "outputs": [
    {
     "data": {
      "text/plain": [
       "'Western Victoria'"
      ]
     },
     "execution_count": 51,
     "metadata": {},
     "output_type": "execute_result"
    }
   ],
   "source": [
    "# 3.2\n",
    "# Какой регион имеет наименьшую протяжённость по географической широте \n",
    "# (Lattitude)?\n",
    "# Для ответа на этот вопрос рассчитайте стандартное отклонение широты \n",
    "# для каждого региона.\n",
    "# В качестве ответа запишите название этого региона.\n",
    "melb_df.groupby('Regionname')['Lattitude'] \\\n",
    "    .std() \\\n",
    "    .idxmin()\n"
   ]
  },
  {
   "cell_type": "code",
   "execution_count": 53,
   "metadata": {},
   "outputs": [
    {
     "data": {
      "text/plain": [
       "'LITTLE'"
      ]
     },
     "execution_count": 53,
     "metadata": {},
     "output_type": "execute_result"
    }
   ],
   "source": [
    "# 3.3\n",
    "# Какая риелторская компания (SellerG) имеет наименьшую общую выручку \n",
    "# за период с 1 мая по 1 сентября (включительно) 2017 года?\n",
    "# Для ответа на этот вопрос рассчитайте сумму продаж (Price) каждой \n",
    "# компании в заданный период.\n",
    "# Не забудьте перевести даты в формат datetime.\n",
    "melb_df[(melb_df.Date <= pd.to_datetime('2017-09-01')) & \n",
    "        (melb_df.Date >= pd.to_datetime('2017-05-01'))] \\\n",
    "        .groupby('SellerG')['Price'] \\\n",
    "        .sum() \\\n",
    "        .idxmin() "
   ]
  },
  {
   "cell_type": "code",
   "execution_count": 61,
   "metadata": {},
   "outputs": [
    {
     "data": {
      "text/html": [
       "<div>\n",
       "<style scoped>\n",
       "    .dataframe tbody tr th:only-of-type {\n",
       "        vertical-align: middle;\n",
       "    }\n",
       "\n",
       "    .dataframe tbody tr th {\n",
       "        vertical-align: top;\n",
       "    }\n",
       "\n",
       "    .dataframe thead th {\n",
       "        text-align: right;\n",
       "    }\n",
       "</style>\n",
       "<table border=\"1\" class=\"dataframe\">\n",
       "  <thead>\n",
       "    <tr style=\"text-align: right;\">\n",
       "      <th>Rooms</th>\n",
       "      <th>1</th>\n",
       "      <th>2</th>\n",
       "      <th>3</th>\n",
       "      <th>4</th>\n",
       "      <th>5</th>\n",
       "      <th>6</th>\n",
       "      <th>7</th>\n",
       "      <th>8</th>\n",
       "      <th>10</th>\n",
       "    </tr>\n",
       "    <tr>\n",
       "      <th>Type</th>\n",
       "      <th></th>\n",
       "      <th></th>\n",
       "      <th></th>\n",
       "      <th></th>\n",
       "      <th></th>\n",
       "      <th></th>\n",
       "      <th></th>\n",
       "      <th></th>\n",
       "      <th></th>\n",
       "    </tr>\n",
       "  </thead>\n",
       "  <tbody>\n",
       "    <tr>\n",
       "      <th>house</th>\n",
       "      <td>126.0</td>\n",
       "      <td>126.0</td>\n",
       "      <td>126.0</td>\n",
       "      <td>141.0</td>\n",
       "      <td>177.0</td>\n",
       "      <td>126.0</td>\n",
       "      <td>216.5</td>\n",
       "      <td>126.0</td>\n",
       "      <td>126.0</td>\n",
       "    </tr>\n",
       "    <tr>\n",
       "      <th>townhouse</th>\n",
       "      <td>88.0</td>\n",
       "      <td>114.0</td>\n",
       "      <td>126.0</td>\n",
       "      <td>159.5</td>\n",
       "      <td>152.0</td>\n",
       "      <td>NaN</td>\n",
       "      <td>NaN</td>\n",
       "      <td>NaN</td>\n",
       "      <td>NaN</td>\n",
       "    </tr>\n",
       "    <tr>\n",
       "      <th>unit</th>\n",
       "      <td>69.5</td>\n",
       "      <td>110.0</td>\n",
       "      <td>126.0</td>\n",
       "      <td>126.0</td>\n",
       "      <td>NaN</td>\n",
       "      <td>171.0</td>\n",
       "      <td>NaN</td>\n",
       "      <td>126.0</td>\n",
       "      <td>NaN</td>\n",
       "    </tr>\n",
       "  </tbody>\n",
       "</table>\n",
       "</div>"
      ],
      "text/plain": [
       "Rooms         1      2      3      4      5      6      7      8      10\n",
       "Type                                                                    \n",
       "house      126.0  126.0  126.0  141.0  177.0  126.0  216.5  126.0  126.0\n",
       "townhouse   88.0  114.0  126.0  159.5  152.0    NaN    NaN    NaN    NaN\n",
       "unit        69.5  110.0  126.0  126.0    NaN  171.0    NaN  126.0    NaN"
      ]
     },
     "execution_count": 61,
     "metadata": {},
     "output_type": "execute_result"
    }
   ],
   "source": [
    "# 4.2\n",
    "# Составьте сводную таблицу, которая показывает зависимость медианной \n",
    "# площади (BuildingArea) здания от типа объекта недвижимости (Type) и \n",
    "# количества жилых комнат в доме (Rooms). Для какой комбинации признаков \n",
    "# площадь здания наибольшая?\n",
    "# В качестве ответа запишите эту комбинацию (тип здания, число комнат) \n",
    "# через запятую, без пробелов.\n",
    "pv = melb_df.pivot_table(values='BuildingArea', index='Type', columns='Rooms', aggfunc='median') \n",
    "pv\n"
   ]
  },
  {
   "cell_type": "code",
   "execution_count": 69,
   "metadata": {},
   "outputs": [
    {
     "data": {
      "text/plain": [
       "('house', 7)"
      ]
     },
     "execution_count": 69,
     "metadata": {},
     "output_type": "execute_result"
    }
   ],
   "source": [
    "pv.max(axis=1).idxmax(), pv.max().idxmax()"
   ]
  },
  {
   "cell_type": "code",
   "execution_count": 76,
   "metadata": {},
   "outputs": [
    {
     "data": {
      "text/plain": [
       "'Nick'"
      ]
     },
     "execution_count": 76,
     "metadata": {},
     "output_type": "execute_result"
    }
   ],
   "source": [
    "# 4.3\n",
    "\n",
    "# Составьте сводную таблицу, которая показывает зависимость медианной цены \n",
    "# объекта недвижимости (Price) от риелторского агентства (SellerG) и \n",
    "# типа здания (Type).\n",
    "# Во вновь созданной таблице найдите агентство, у которого медианная цена \n",
    "# для зданий типа unit максимальна. В качестве ответа запишите название \n",
    "# этого агентства.\n",
    "pv = melb_df.pivot_table(values='Price', index='SellerG', columns='Type', aggfunc='median') \n",
    "pv.idxmax()['unit']"
   ]
  },
  {
   "cell_type": "code",
   "execution_count": null,
   "metadata": {},
   "outputs": [],
   "source": []
  }
 ],
 "metadata": {
  "kernelspec": {
   "display_name": "Python 3.10.0 64-bit",
   "language": "python",
   "name": "python3"
  },
  "language_info": {
   "codemirror_mode": {
    "name": "ipython",
    "version": 3
   },
   "file_extension": ".py",
   "mimetype": "text/x-python",
   "name": "python",
   "nbconvert_exporter": "python",
   "pygments_lexer": "ipython3",
   "version": "3.10.0"
  },
  "orig_nbformat": 4,
  "vscode": {
   "interpreter": {
    "hash": "a42ccb73e7d9bfdf27e036f1d2b8b681e55fc0743cc5586bc2474d4a60f4b886"
   }
  }
 },
 "nbformat": 4,
 "nbformat_minor": 2
}
